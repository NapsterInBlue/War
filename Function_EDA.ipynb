{
 "cells": [
  {
   "cell_type": "code",
   "execution_count": 1,
   "metadata": {
    "scrolled": true
   },
   "outputs": [
    {
     "name": "stdout",
     "output_type": "stream",
     "text": [
      "Populating the interactive namespace from numpy and matplotlib\n"
     ]
    }
   ],
   "source": [
    "%pylab inline"
   ]
  },
  {
   "cell_type": "code",
   "execution_count": 2,
   "metadata": {},
   "outputs": [],
   "source": [
    "import pandas as pd\n",
    "\n",
    "import os\n",
    "\n",
    "from itertools import islice"
   ]
  },
  {
   "cell_type": "code",
   "execution_count": 3,
   "metadata": {},
   "outputs": [],
   "source": [
    "from helpers import load_whole_games, get_game_summaries, get_game_lengths"
   ]
  },
  {
   "cell_type": "code",
   "execution_count": null,
   "metadata": {},
   "outputs": [],
   "source": [
    "whole_games = load_whole_games(1000)"
   ]
  },
  {
   "cell_type": "code",
   "execution_count": null,
   "metadata": {},
   "outputs": [],
   "source": [
    "whole_games.head()"
   ]
  },
  {
   "cell_type": "code",
   "execution_count": null,
   "metadata": {
    "scrolled": true
   },
   "outputs": [],
   "source": [
    "whole_games.shape"
   ]
  },
  {
   "cell_type": "code",
   "execution_count": null,
   "metadata": {
    "scrolled": false
   },
   "outputs": [],
   "source": [
    "results = get_game_summaries()"
   ]
  },
  {
   "cell_type": "code",
   "execution_count": 5,
   "metadata": {
    "scrolled": true
   },
   "outputs": [
    {
     "data": {
      "text/html": [
       "<div>\n",
       "<style scoped>\n",
       "    .dataframe tbody tr th:only-of-type {\n",
       "        vertical-align: middle;\n",
       "    }\n",
       "\n",
       "    .dataframe tbody tr th {\n",
       "        vertical-align: top;\n",
       "    }\n",
       "\n",
       "    .dataframe thead th {\n",
       "        text-align: right;\n",
       "    }\n",
       "</style>\n",
       "<table border=\"1\" class=\"dataframe\">\n",
       "  <thead>\n",
       "    <tr style=\"text-align: right;\">\n",
       "      <th></th>\n",
       "      <th>game</th>\n",
       "      <th>a_starting_aces</th>\n",
       "      <th>a_starting_kings</th>\n",
       "      <th>a_won</th>\n",
       "      <th>a_won_first_round</th>\n",
       "    </tr>\n",
       "  </thead>\n",
       "  <tbody>\n",
       "    <tr>\n",
       "      <th>0</th>\n",
       "      <td>0</td>\n",
       "      <td>1</td>\n",
       "      <td>1</td>\n",
       "      <td>False</td>\n",
       "      <td>True</td>\n",
       "    </tr>\n",
       "    <tr>\n",
       "      <th>1</th>\n",
       "      <td>1</td>\n",
       "      <td>3</td>\n",
       "      <td>0</td>\n",
       "      <td>False</td>\n",
       "      <td>True</td>\n",
       "    </tr>\n",
       "    <tr>\n",
       "      <th>2</th>\n",
       "      <td>2</td>\n",
       "      <td>2</td>\n",
       "      <td>4</td>\n",
       "      <td>False</td>\n",
       "      <td>True</td>\n",
       "    </tr>\n",
       "    <tr>\n",
       "      <th>3</th>\n",
       "      <td>3</td>\n",
       "      <td>3</td>\n",
       "      <td>1</td>\n",
       "      <td>False</td>\n",
       "      <td>True</td>\n",
       "    </tr>\n",
       "    <tr>\n",
       "      <th>4</th>\n",
       "      <td>4</td>\n",
       "      <td>1</td>\n",
       "      <td>2</td>\n",
       "      <td>True</td>\n",
       "      <td>True</td>\n",
       "    </tr>\n",
       "  </tbody>\n",
       "</table>\n",
       "</div>"
      ],
      "text/plain": [
       "   game  a_starting_aces  a_starting_kings  a_won  a_won_first_round\n",
       "0     0                1                 1  False               True\n",
       "1     1                3                 0  False               True\n",
       "2     2                2                 4  False               True\n",
       "3     3                3                 1  False               True\n",
       "4     4                1                 2   True               True"
      ]
     },
     "execution_count": 5,
     "metadata": {},
     "output_type": "execute_result"
    }
   ],
   "source": [
    "results.head()"
   ]
  },
  {
   "cell_type": "code",
   "execution_count": null,
   "metadata": {},
   "outputs": [],
   "source": [
    "results.shape"
   ]
  },
  {
   "cell_type": "code",
   "execution_count": null,
   "metadata": {},
   "outputs": [],
   "source": []
  },
  {
   "cell_type": "code",
   "execution_count": null,
   "metadata": {},
   "outputs": [],
   "source": [
    "lengths = get_game_lengths()"
   ]
  },
  {
   "cell_type": "code",
   "execution_count": null,
   "metadata": {},
   "outputs": [],
   "source": [
    "lengths.head()"
   ]
  },
  {
   "cell_type": "markdown",
   "metadata": {},
   "source": [
    "## Plots"
   ]
  },
  {
   "cell_type": "code",
   "execution_count": null,
   "metadata": {},
   "outputs": [],
   "source": [
    "import itertools"
   ]
  },
  {
   "cell_type": "code",
   "execution_count": null,
   "metadata": {
    "scrolled": false
   },
   "outputs": [],
   "source": [
    "fig, ax = plt.subplots(figsize=(18, 10))\n",
    "\n",
    "color_dict = {True: 'g', False: 'r'}\n",
    "\n",
    "temp = whole_games.merge(results, on='game')\n",
    "gb = temp.groupby('game')\n",
    "for name, group in itertools.islice(gb, 100):\n",
    "    num_turns = len(group)\n",
    "    last_turn = group.tail(1)\n",
    "    result = group['a_won'].iloc[0]\n",
    "    \n",
    "    ax.plot(range(num_turns), group['num_a'], color=color_dict[result], alpha=.1)\n",
    "    ax.plot(num_turns, last_turn['num_a'], color=color_dict[result], marker='o')"
   ]
  },
  {
   "cell_type": "code",
   "execution_count": null,
   "metadata": {},
   "outputs": [],
   "source": []
  },
  {
   "cell_type": "code",
   "execution_count": null,
   "metadata": {
    "scrolled": false
   },
   "outputs": [],
   "source": [
    "fig, ax = plt.subplots(figsize=(18, 10))\n",
    "\n",
    "color_dict = {0: 'k', 1: 'k', 2: 'k',\n",
    "              3: 'k', 4: 'darkgreen'}\n",
    "alpha_dict = {0: .1, 1: .1, 2: .1,\n",
    "              3: .1, 4: .5}\n",
    "\n",
    "win_dict = {True: 'g', False: 'r'}\n",
    "\n",
    "\n",
    "temp = whole_games.merge(results, on='game')\n",
    "gb = temp.groupby('game')\n",
    "for name, group in itertools.islice(gb, 100):\n",
    "    num_turns = len(group)\n",
    "    last_turn = group.tail(1)\n",
    "    aces = group['a_starting_aces'].iloc[0]\n",
    "    result = group['a_won'].iloc[0]\n",
    "    \n",
    "    ax.plot(range(num_turns), group['num_a'], color=color_dict[aces], alpha=alpha_dict[aces])\n",
    "    ax.plot(num_turns, last_turn['num_a'], color=win_dict[result], marker='o', alpha=alpha_dict[aces])"
   ]
  },
  {
   "cell_type": "code",
   "execution_count": null,
   "metadata": {},
   "outputs": [],
   "source": []
  },
  {
   "cell_type": "code",
   "execution_count": null,
   "metadata": {},
   "outputs": [],
   "source": [
    "len(results)"
   ]
  },
  {
   "cell_type": "code",
   "execution_count": null,
   "metadata": {},
   "outputs": [],
   "source": [
    "results.groupby('a_starting_aces').size()"
   ]
  },
  {
   "cell_type": "code",
   "execution_count": null,
   "metadata": {},
   "outputs": [],
   "source": [
    "results.groupby('a_starting_aces')['a_won'].mean()"
   ]
  },
  {
   "cell_type": "raw",
   "metadata": {},
   "source": []
  },
  {
   "cell_type": "code",
   "execution_count": null,
   "metadata": {},
   "outputs": [],
   "source": [
    "lengths['turns'].describe()"
   ]
  },
  {
   "cell_type": "code",
   "execution_count": null,
   "metadata": {},
   "outputs": [],
   "source": []
  },
  {
   "cell_type": "code",
   "execution_count": null,
   "metadata": {},
   "outputs": [],
   "source": [
    "wins_by_starts = (results\n",
    "                  .groupby(['a_starting_aces', 'a_starting_kings'])['a_won'].mean()).unstack()\n",
    "wins_by_starts"
   ]
  },
  {
   "cell_type": "code",
   "execution_count": null,
   "metadata": {},
   "outputs": [],
   "source": [
    "counts_by_starts = (results\n",
    "                    .groupby(['a_starting_aces', 'a_starting_kings'])['a_won'].size()).unstack()\n",
    "counts_by_starts"
   ]
  },
  {
   "cell_type": "code",
   "execution_count": null,
   "metadata": {},
   "outputs": [],
   "source": [
    "ax = plt.matshow(wins_by_starts.values)\n",
    "plt.colorbar();"
   ]
  },
  {
   "cell_type": "code",
   "execution_count": null,
   "metadata": {},
   "outputs": [],
   "source": []
  },
  {
   "cell_type": "code",
   "execution_count": null,
   "metadata": {},
   "outputs": [],
   "source": [
    "interesting_wins = results[(results['a_starting_aces'] == 0) & (results['a_starting_kings'] == 0)]\n",
    "interesting_wins"
   ]
  },
  {
   "cell_type": "code",
   "execution_count": null,
   "metadata": {},
   "outputs": [],
   "source": [
    "interesting_losses = results[(results['a_starting_aces'] == 4) & (results['a_starting_kings'] == 4)\n",
    "                             & (results['a_won'] == False)]\n",
    "interesting_losses"
   ]
  },
  {
   "cell_type": "code",
   "execution_count": null,
   "metadata": {},
   "outputs": [],
   "source": []
  },
  {
   "cell_type": "code",
   "execution_count": null,
   "metadata": {},
   "outputs": [],
   "source": [
    "def plot_game_history(game_number):\n",
    "    game = whole_games[whole_games['game'] == game_number].reset_index()\n",
    "    wars = game[game['wars'] == 1].index\n",
    "\n",
    "    fig, ax = plt.subplots(figsize=(18, 10))\n",
    "    ax.plot(game['num_a'])\n",
    "\n",
    "    ax2 = ax.twinx()\n",
    "    loc = matplotlib.ticker.MultipleLocator(1)\n",
    "    ax2.yaxis.set_major_locator(loc)\n",
    "    \n",
    "    ax2.plot(game['num_aces_a'], linewidth=3, c='g', label='Aces')\n",
    "    ax2.plot(game['num_kings_a'], linewidth=1, c='k', label='Kings')\n",
    "\n",
    "    for war in wars:\n",
    "        ax.axvline(war, color='red', alpha=.5, dashes=(1, 1))\n",
    "\n",
    "    for war in islice(wars, 1):\n",
    "        ax2.axvline(war, color='red', alpha=.5, dashes=(1, 1), label='WAR!')\n",
    "        \n",
    "    ax.set_ylabel('Card Count', fontsize=12)\n",
    "    ax.set_xlabel('Turn Count', fontsize=16)\n",
    "    ax2.set_ylabel('King/Ace Count', fontsize=12)\n",
    "        \n",
    "    ax2.legend(fontsize=16, loc=3)\n",
    "    return ax2"
   ]
  },
  {
   "cell_type": "code",
   "execution_count": null,
   "metadata": {},
   "outputs": [],
   "source": [
    "ax = plot_game_history(12)"
   ]
  },
  {
   "cell_type": "code",
   "execution_count": null,
   "metadata": {},
   "outputs": [],
   "source": []
  },
  {
   "cell_type": "code",
   "execution_count": null,
   "metadata": {},
   "outputs": [],
   "source": []
  },
  {
   "cell_type": "code",
   "execution_count": null,
   "metadata": {},
   "outputs": [],
   "source": [
    "results.groupby('a_won_first_round')['a_won'].mean()"
   ]
  },
  {
   "cell_type": "code",
   "execution_count": null,
   "metadata": {},
   "outputs": [],
   "source": []
  }
 ],
 "metadata": {
  "kernelspec": {
   "display_name": "Python 3",
   "language": "python",
   "name": "python3"
  },
  "language_info": {
   "codemirror_mode": {
    "name": "ipython",
    "version": 3
   },
   "file_extension": ".py",
   "mimetype": "text/x-python",
   "name": "python",
   "nbconvert_exporter": "python",
   "pygments_lexer": "ipython3",
   "version": "3.6.5"
  }
 },
 "nbformat": 4,
 "nbformat_minor": 2
}
